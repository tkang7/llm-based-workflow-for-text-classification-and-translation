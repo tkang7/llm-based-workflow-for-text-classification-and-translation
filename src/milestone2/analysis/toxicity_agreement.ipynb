{
 "cells": [
  {
   "cell_type": "code",
   "execution_count": null,
   "metadata": {},
   "outputs": [],
   "source": [
    "# Import and Randomly Sample 15\n",
    "import pandas as pd\n",
    "\n",
    "toxicity_data_path = \"../data/output/milestone_2_detox_data.csv\"\n",
    "output_data_path = \"../data/output/toxic_test_random_sample.csv\"\n",
    "df = pd.read_csv(toxicity_data_path)\n",
    "\n",
    "sampled_df = df.sample(n=15, random_state=42)\n",
    "sampled_df.to_csv(output_data_path, index=False)"
   ]
  },
  {
   "cell_type": "code",
   "execution_count": 14,
   "metadata": {},
   "outputs": [
    {
     "name": "stdout",
     "output_type": "stream",
     "text": [
      "Cohen's Kappa Score: 0.77\n"
     ]
    }
   ],
   "source": [
    "# Calculate Cohen's Kappa between David and GPT\n",
    "from sklearn.metrics import cohen_kappa_score\n",
    "\n",
    "toxicity_test_rating = pd.read_csv(output_data_path)\n",
    "david_eval = toxicity_test_rating[\"david_eval\"]\n",
    "gpt_eval = toxicity_test_rating[\"gpt_eval\"]\n",
    "\n",
    "kappa_score = cohen_kappa_score(david_eval, gpt_eval, weights='linear')\n",
    "\n",
    "print(f\"Cohen's Kappa Score: {kappa_score:.2f}\")"
   ]
  },
  {
   "cell_type": "code",
   "execution_count": null,
   "metadata": {},
   "outputs": [],
   "source": []
  }
 ],
 "metadata": {
  "kernelspec": {
   "display_name": "base",
   "language": "python",
   "name": "python3"
  },
  "language_info": {
   "codemirror_mode": {
    "name": "ipython",
    "version": 3
   },
   "file_extension": ".py",
   "mimetype": "text/x-python",
   "name": "python",
   "nbconvert_exporter": "python",
   "pygments_lexer": "ipython3",
   "version": "3.11.9"
  }
 },
 "nbformat": 4,
 "nbformat_minor": 2
}
